{
 "cells": [
  {
   "cell_type": "code",
   "execution_count": 1,
   "metadata": {},
   "outputs": [
    {
     "name": "stdout",
     "output_type": "stream",
     "text": [
      "Bienvenido a ... \n",
      "              _                  __\n",
      "   ____ ___  (_)  ________  ____/ /\n",
      "  / __ `__ \\/ /  / ___/ _ \\/ __  /\n",
      " / / / / / / /  / /  /  __/ /_/ /\n",
      "/_/ /_/ /_/_/  /_/   \\___/\\__,_/\n",
      "\n",
      "\n"
     ]
    }
   ],
   "source": [
    "print(\"Bienvenido a ... \")\n",
    "print(\"\"\"              _                  __\n",
    "   ____ ___  (_)  ________  ____/ /\n",
    "  / __ `__ \\/ /  / ___/ _ \\/ __  /\n",
    " / / / / / / /  / /  /  __/ /_/ /\n",
    "/_/ /_/ /_/_/  /_/   \\___/\\__,_/\n",
    "\n",
    "\"\"\")\n"
   ]
  },
  {
   "cell_type": "code",
   "execution_count": null,
   "metadata": {},
   "outputs": [],
   "source": [
    "nombre = input(\"Para empezar, dime como te llamas. \")\n",
    "print()\n",
    "print(\"Hola\", nombre, \", bienvenido a Mi Red\")\n",
    "print()\n",
    "\n",
    "agno = int(input(\"Para preparar tu perfil, dime en año naciste.\"))\n",
    "edad = 2024-agno-1\n",
    "print()\n",
    "\n",
    "estatura = float(input(\"Cuentame más de ti, para agegarlo a tu perfil. ¿Cuanto mides? Dilo en metros. \"))\n",
    "estatura_m = int(estatura)\n",
    "estatura_cm = int((estatura - estatura_m)*100)\n",
    "\n",
    "num_amigos = int(input(\"Muy bien. Finalmente, cuentame cuantos amigos tienes. \"))\n",
    "\n",
    "print(\"Muy bien,\", nombre, \". Entonces podemos crear  un perffil con estos datos.\")\n",
    "print()\n",
    "print(\"--------------------------------------------------\")\n",
    "print(\"Nombre: \", nombre)\n",
    "print(\"Edad: \", edad, \"Años\")\n",
    "print(\"Estatura: \", estatura_m, \"metros y\", estatura_cm, \"centimetros\")\n",
    "print(\"Amigos: \", num_amigos)\n",
    "print(\"--------------------------------------------------\")\n",
    "print(\"Gracias por la información. Esperamos que disfrutes con Mi Red\")\n",
    "\n",
    "mensaje = input(\"Ahora vamos a publicar tu primer mensaje. ¿En que piensas hoy?\")\n",
    "print()\n",
    "print(\"--------------------------------------------------\")\n",
    "print(nombre, \"dice:\", mensaje)\n",
    "print(\"--------------------------------------------------\")\n",
    "\n",
    "print(\"Para poderte recomendar sugerencias, por favor dame ampliemos la siguiente información: \")\n",
    "print()\n",
    "sexo = input(\"Sexo: (Femenino, Masulino, Otro): \")\n",
    "print(\"Sexo: \", sexo)\n",
    "num_telefono = int(input(\"Numero de telefono. \"))\n",
    "print(\"Telefono: \", num_telefono)\n",
    "ciudad_res = input(\"Cuentame en que ciudad vives. \") \n",
    "print(\"Ciudad de residencia: \", ciudad_res) \n",
    "pais = input(\"Cuentame en que pais naciste.\") \n",
    "print(\"Pais de nacimiento: \", pais)\n",
    "direccion = input(\"Cual es tu dirección de residencia. \")\n",
    "print(\"Dirección: \", direccion)\n",
    "print(\"--------------------------------------------------\")\n",
    "print(\"Gracias por la información. Ahora podremos enviarte sugerencias interesantes\")"
   ]
  }
 ],
 "metadata": {
  "kernelspec": {
   "display_name": "Python 3",
   "language": "python",
   "name": "python3"
  },
  "language_info": {
   "codemirror_mode": {
    "name": "ipython",
    "version": 3
   },
   "file_extension": ".py",
   "mimetype": "text/x-python",
   "name": "python",
   "nbconvert_exporter": "python",
   "pygments_lexer": "ipython3",
   "version": "3.11.9"
  }
 },
 "nbformat": 4,
 "nbformat_minor": 2
}
